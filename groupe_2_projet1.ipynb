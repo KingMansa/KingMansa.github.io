{
  "nbformat": 4,
  "nbformat_minor": 0,
  "metadata": {
    "colab": {
      "name": "groupe-2-projet1.ipynb",
      "provenance": [],
      "authorship_tag": "ABX9TyMKQ7d7IUlRmfxYXSmNssPc",
      "include_colab_link": true
    },
    "kernelspec": {
      "name": "python3",
      "display_name": "Python 3"
    },
    "language_info": {
      "name": "python"
    }
  },
  "cells": [
    {
      "cell_type": "markdown",
      "metadata": {
        "id": "view-in-github",
        "colab_type": "text"
      },
      "source": [
        "<a href=\"https://colab.research.google.com/github/KingMansa/KingMansa.github.io/blob/main/groupe_2_projet1.ipynb\" target=\"_parent\"><img src=\"https://colab.research.google.com/assets/colab-badge.svg\" alt=\"Open In Colab\"/></a>"
      ]
    },
    {
      "cell_type": "markdown",
      "metadata": {
        "id": "kzN4FCSmCZBp"
      },
      "source": [
        "#projet1-maths-discretes-uvs-2021\n",
        "###Année: 2020-2021, UVS\n",
        "###Cours de mathématiques discrètes\n",
        "###Projet 1 : Impémentation en Python\n",
        "###Enseignant : Dr. Michel SECK (EPT)\n",
        "Magath NAEL et Sidy KAMARA\n",
        "\n"
      ]
    },
    {
      "cell_type": "markdown",
      "metadata": {
        "id": "lEU0N589ELoJ"
      },
      "source": [
        "Partie 1 : Exercices sur Python"
      ]
    }
  ]
}